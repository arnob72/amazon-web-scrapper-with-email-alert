{
  "nbformat": 4,
  "nbformat_minor": 0,
  "metadata": {
    "colab": {
      "provenance": []
    },
    "kernelspec": {
      "name": "python3",
      "display_name": "Python 3"
    },
    "language_info": {
      "name": "python"
    }
  },
  "cells": [
    {
      "cell_type": "code",
      "source": [
        "pip install beautifulsoup4\n"
      ],
      "metadata": {
        "colab": {
          "base_uri": "https://localhost:8080/"
        },
        "id": "_q70Br33wjyg",
        "outputId": "7bc15620-4325-4272-c93e-919370ffd492"
      },
      "execution_count": null,
      "outputs": [
        {
          "output_type": "stream",
          "name": "stdout",
          "text": [
            "Requirement already satisfied: beautifulsoup4 in /usr/local/lib/python3.10/dist-packages (4.11.2)\n",
            "Requirement already satisfied: soupsieve>1.2 in /usr/local/lib/python3.10/dist-packages (from beautifulsoup4) (2.4.1)\n"
          ]
        }
      ]
    },
    {
      "cell_type": "code",
      "source": [
        "pip install requests"
      ],
      "metadata": {
        "colab": {
          "base_uri": "https://localhost:8080/"
        },
        "id": "F8ehLk7zxRU3",
        "outputId": "c8633d97-e9c9-4e4f-e75d-aa936d06c28d"
      },
      "execution_count": null,
      "outputs": [
        {
          "output_type": "stream",
          "name": "stdout",
          "text": [
            "Requirement already satisfied: requests in /usr/local/lib/python3.10/dist-packages (2.31.0)\n",
            "Requirement already satisfied: charset-normalizer<4,>=2 in /usr/local/lib/python3.10/dist-packages (from requests) (3.2.0)\n",
            "Requirement already satisfied: idna<4,>=2.5 in /usr/local/lib/python3.10/dist-packages (from requests) (3.4)\n",
            "Requirement already satisfied: urllib3<3,>=1.21.1 in /usr/local/lib/python3.10/dist-packages (from requests) (2.0.4)\n",
            "Requirement already satisfied: certifi>=2017.4.17 in /usr/local/lib/python3.10/dist-packages (from requests) (2023.7.22)\n"
          ]
        }
      ]
    },
    {
      "cell_type": "code",
      "execution_count": null,
      "metadata": {
        "id": "eDw3o9hrveNA"
      },
      "outputs": [],
      "source": [
        "from bs4 import BeautifulSoup\n",
        "import requests\n",
        "import time\n",
        "import datetime\n",
        "import smtplib"
      ]
    },
    {
      "cell_type": "code",
      "source": [
        "#connecting website\n",
        "\n",
        "URL = \"https://www.amazon.com/Data-Analyst-T-Shirt-Male-Boss/dp/B09T5BKPS3/ref=sr_1_1?crid=35J2SKMP8TK3Y&keywords=data+analyst+t+shirt&qid=1692364598&sprefix=data+analyst+t+shi%2Caps%2C601&sr=8-1\"\n",
        "\n",
        "headers = { \"User-Agent\": \"Mozilla/5.0 (Windows NT 10.0; Win64; x64) AppleWebKit/537.36 (KHTML, like Gecko) Chrome/115.0.0.0 Safari/537.36\"}\n",
        "\n",
        "page = requests.get(URL, headers=headers)\n",
        "\n",
        "soup1 = BeautifulSoup(page.content, \"html.parser\")\n",
        "soup2 = BeautifulSoup(soup1.prettify(), \"html.parser\")\n",
        "\n",
        "title = soup2.find(id='productTitle').get_text()\n",
        "price = soup2.find(id='corePrice_desktop').get_text()\n",
        "print (title)\n",
        "print (price)\n",
        "\n",
        "\n",
        "\n"
      ],
      "metadata": {
        "colab": {
          "base_uri": "https://localhost:8080/"
        },
        "id": "W3Qk1e_Mvkx-",
        "outputId": "24f7bfd5-8961-4585-8538-9c4f5e89aebb"
      },
      "execution_count": null,
      "outputs": [
        {
          "output_type": "stream",
          "name": "stdout",
          "text": [
            "\n",
            "                    Data Analyst T-Shirt for Men,Him, Male, Boss, Son - What's Your Superpower Tee Top - Men Clothing Shirt for Data Analyst\n",
            "                   \n",
            "\n",
            "\n",
            "\n",
            "\n",
            "\n",
            "                    Price:\n",
            "                   \n",
            "\n",
            "\n",
            "\n",
            "\n",
            "                       $25.75\n",
            "                      \n",
            "\n",
            "                       $25.75\n",
            "                      \n",
            "\n",
            "\n",
            "                      -\n",
            "                     \n",
            "\n",
            "\n",
            "                       $29.75\n",
            "                      \n",
            "\n",
            "                       $29.75\n",
            "                      \n",
            "\n",
            "\n",
            "\n",
            "\n",
            "\n",
            "\n",
            "\n",
            "\n",
            "\n",
            "\n",
            "\n",
            "\n",
            "\n",
            "\n",
            "\n",
            "\n",
            "\n",
            "\n",
            "\n",
            "\n",
            "\n",
            "\n",
            "\n",
            "\n",
            "                           Free Returns on some sizes and colors\n",
            "                           \n",
            "\n",
            "\n",
            "\n",
            "\n",
            "\n",
            "\n",
            "\n",
            "\n",
            "\n",
            "\n",
            "\n",
            "                             Select Size to see the return policy for the item\n",
            "                            \n",
            "\n",
            "\n",
            "\n",
            "\n",
            "\n",
            "\n",
            "\n",
            "\n",
            "\n",
            "\n",
            "\n",
            "\n",
            "\n",
            "\n",
            "\n"
          ]
        }
      ]
    },
    {
      "cell_type": "code",
      "source": [
        "price = price.strip()[1:]\n",
        "title = title.strip()\n",
        "\n",
        "print(title)\n",
        "print(price)"
      ],
      "metadata": {
        "colab": {
          "base_uri": "https://localhost:8080/"
        },
        "id": "wWti5sTK8kNc",
        "outputId": "cfa0b990-3ec0-485f-b2ae-ba09aff3c423"
      },
      "execution_count": null,
      "outputs": [
        {
          "output_type": "stream",
          "name": "stdout",
          "text": [
            "Data Analyst T-Shirt for Men,Him, Male, Boss, Son - What's Your Superpower Tee Top - Men Clothing Shirt for Data Analyst\n",
            "rice:\n",
            "                   \n",
            "\n",
            "\n",
            "\n",
            "\n",
            "                       $25.75\n",
            "                      \n",
            "\n",
            "                       $25.75\n",
            "                      \n",
            "\n",
            "\n",
            "                      -\n",
            "                     \n",
            "\n",
            "\n",
            "                       $29.75\n",
            "                      \n",
            "\n",
            "                       $29.75\n",
            "                      \n",
            "\n",
            "\n",
            "\n",
            "\n",
            "\n",
            "\n",
            "\n",
            "\n",
            "\n",
            "\n",
            "\n",
            "\n",
            "\n",
            "\n",
            "\n",
            "\n",
            "\n",
            "\n",
            "\n",
            "\n",
            "\n",
            "\n",
            "\n",
            "\n",
            "                           Free Returns on some sizes and colors\n",
            "                           \n",
            "\n",
            "\n",
            "\n",
            "\n",
            "\n",
            "\n",
            "\n",
            "\n",
            "\n",
            "\n",
            "\n",
            "                             Select Size to see the return policy for the item\n"
          ]
        }
      ]
    },
    {
      "cell_type": "code",
      "source": [
        "import datetime\n",
        "\n",
        "today = datetime.date.today()\n",
        "print(today)\n"
      ],
      "metadata": {
        "id": "tSKxE49vVRRX",
        "colab": {
          "base_uri": "https://localhost:8080/"
        },
        "outputId": "74526faa-8251-4aec-e08e-895cbab0470c"
      },
      "execution_count": null,
      "outputs": [
        {
          "output_type": "stream",
          "name": "stdout",
          "text": [
            "2023-09-02\n"
          ]
        }
      ]
    },
    {
      "cell_type": "code",
      "source": [
        "import csv\n",
        "\n",
        "header = ['Titile', 'Price', \"date\"]\n",
        "data = [title, price, today]\n",
        "\n",
        "with open('webscraperdataset.csv', 'w', newline='', encoding='UTF8') as f:\n",
        "  writer = csv.writer(f)\n",
        "  writer.writerow(header)\n",
        "  writer.writerow(data)\n",
        "\n"
      ],
      "metadata": {
        "id": "bBuqvlV4UUB_"
      },
      "execution_count": null,
      "outputs": []
    },
    {
      "cell_type": "code",
      "source": [
        "import pandas as pd\n",
        "df = pd.read_csv('/content/webscraperdataset.csv')\n",
        "print(df)"
      ],
      "metadata": {
        "id": "ZZqUR1iIVRhT",
        "colab": {
          "base_uri": "https://localhost:8080/"
        },
        "outputId": "8dbcb3aa-99ec-464a-e8a5-00e57e97269f"
      },
      "execution_count": null,
      "outputs": [
        {
          "output_type": "stream",
          "name": "stdout",
          "text": [
            "                                              Titile  \\\n",
            "0  Data Analyst T-Shirt for Men,Him, Male, Boss, ...   \n",
            "1  Data Analyst T-Shirt for Men,Him, Male, Boss, ...   \n",
            "2  Data Analyst T-Shirt for Men,Him, Male, Boss, ...   \n",
            "3  Data Analyst T-Shirt for Men,Him, Male, Boss, ...   \n",
            "4  Data Analyst T-Shirt for Men,Him, Male, Boss, ...   \n",
            "\n",
            "                                               Price        date  \n",
            "0  rice:\\n                   \\n\\n\\n\\n\\n          ...  2023-09-02  \n",
            "1  rice:\\n                   \\n\\n\\n\\n\\n          ...  2023-09-02  \n",
            "2  rice:\\n                   \\n\\n\\n\\n\\n          ...  2023-09-02  \n",
            "3  rice:\\n                  \\n\\n\\n\\n\\n           ...  2023-09-02  \n",
            "4  rice:\\n                   \\n\\n\\n\\n\\n          ...  2023-09-02  \n"
          ]
        }
      ]
    },
    {
      "cell_type": "code",
      "source": [
        "#append data to csv\n",
        "\n",
        "with open('webscraperdataset.csv', 'a+', newline='', encoding='UTF8') as f:\n",
        "  writer = csv.writer(f)\n",
        "  writer.writerow(data)"
      ],
      "metadata": {
        "id": "snDL6uTlVRwX"
      },
      "execution_count": null,
      "outputs": []
    },
    {
      "cell_type": "code",
      "source": [
        "def check_price():\n",
        " URL = \"https://www.amazon.com/Data-Analyst-T-Shirt-Male-Boss/dp/B09T5BKPS3/ref=sr_1_1?crid=35J2SKMP8TK3Y&keywords=data+analyst+t+shirt&qid=1692364598&sprefix=data+analyst+t+shi%2Caps%2C601&sr=8-1\"\n",
        "\n",
        " headers = {\"User-Agent\": \"Mozilla/5.0 (Windows NT 10.0; Win64; x64) AppleWebKit/537.36 (KHTML, like Gecko) Chrome/115.0.0.0 Safari/537.36\"}\n",
        "\n",
        " page = requests.get(URL, headers=headers)\n",
        "\n",
        " soup1 = BeautifulSoup(page.content, \"html.parser\")\n",
        " soup2 = BeautifulSoup(soup1.prettify(), \"html.parser\")\n",
        "\n",
        " title = soup2.find(id='productTitle').get_text()\n",
        " price = soup2.find(id='corePrice_desktop').get_text()\n",
        "\n",
        " price = price.strip()[1:]\n",
        " title = title.strip()\n",
        "\n",
        " import datetime\n",
        " today = datetime.date.today()\n",
        "\n",
        " import csv\n",
        "\n",
        " header = ['Titile', 'Price', \"date\"]\n",
        " data = [title, price, today]\n",
        "\n",
        " with open('webscraperdataset.csv', 'a+', newline='', encoding='UTF8') as f:\n",
        "  writer = csv.writer(f)\n",
        "  writer.writerow(data)\n",
        "\n",
        "\n",
        "  if (price<10):\n",
        "    send_mail()\n"
      ],
      "metadata": {
        "id": "-kzttzWW-6Of"
      },
      "execution_count": null,
      "outputs": []
    },
    {
      "cell_type": "code",
      "source": [
        "while(True):\n",
        "  check_price()\n",
        "  time.sleep(86400)"
      ],
      "metadata": {
        "id": "L-Fj8IVdBg3T"
      },
      "execution_count": null,
      "outputs": []
    },
    {
      "cell_type": "code",
      "source": [
        "def send_mail():\n",
        "  server = smtplib.SMTP_SSL('smtp.gmail.com',465)\n",
        "  server.ehlo()\n",
        "  server.login('zellyphish@gmail.com','xxxxxxxxxx')\n",
        "  subject = \"tingtingting!! price drop alert!!!\"\n",
        "  body = \"the product you were looking for has lowered the price\"\n",
        "\n",
        "  msg = f\"Subject: {subject}\\n\\n\\n{body}\"\n",
        "  server.sendmail('zellyphish@gmail.com', msg)\n",
        "\n"
      ],
      "metadata": {
        "id": "JoBSQ_wBE8yG"
      },
      "execution_count": null,
      "outputs": []
    },
    {
      "cell_type": "code",
      "source": [],
      "metadata": {
        "id": "7Jyh71wv9TaK"
      },
      "execution_count": null,
      "outputs": []
    }
  ]
}